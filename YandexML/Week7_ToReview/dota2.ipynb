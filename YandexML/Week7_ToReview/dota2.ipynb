{
 "cells": [
  {
   "cell_type": "code",
   "execution_count": 1,
   "metadata": {},
   "outputs": [],
   "source": [
    "#Подключение основных библиотек\n",
    "from datetime import datetime"
   ]
  },
  {
   "cell_type": "code",
   "execution_count": 2,
   "metadata": {},
   "outputs": [],
   "source": [
    "import pandas"
   ]
  },
  {
   "cell_type": "code",
   "execution_count": 3,
   "metadata": {},
   "outputs": [],
   "source": [
    "from sklearn.ensemble import GradientBoostingClassifier"
   ]
  },
  {
   "cell_type": "code",
   "execution_count": 4,
   "metadata": {},
   "outputs": [],
   "source": [
    "from sklearn.metrics import roc_auc_score"
   ]
  },
  {
   "cell_type": "code",
   "execution_count": 5,
   "metadata": {},
   "outputs": [],
   "source": [
    "from sklearn.model_selection import cross_val_score"
   ]
  },
  {
   "cell_type": "code",
   "execution_count": 6,
   "metadata": {},
   "outputs": [],
   "source": [
    "from sklearn.model_selection import KFold"
   ]
  },
  {
   "cell_type": "code",
   "execution_count": 7,
   "metadata": {},
   "outputs": [],
   "source": [
    "#Получение обучающей выборки\n",
    "data_train = pandas.read_csv('features.csv', index_col='match_id')"
   ]
  },
  {
   "cell_type": "code",
   "execution_count": 8,
   "metadata": {},
   "outputs": [],
   "source": [
    "#Извлекаем \"правильные ответы\" из выборки\n",
    "y = data_train['radiant_win']"
   ]
  },
  {
   "cell_type": "code",
   "execution_count": 9,
   "metadata": {},
   "outputs": [],
   "source": [
    "#Удаление целевой переменной и признаков \"заглядывающих в будущее\", которые мешают строить адекватную модель для предсказаний\n",
    "X = data_train.drop(['radiant_win', 'duration', 'tower_status_radiant','tower_status_dire','barracks_status_radiant', 'barracks_status_dire'], axis=1)"
   ]
  },
  {
   "cell_type": "code",
   "execution_count": 10,
   "metadata": {},
   "outputs": [],
   "source": [
    "#Заполняем пропущенные значения средними по своему признаку\n",
    "X = X.fillna(X.mean())"
   ]
  },
  {
   "cell_type": "code",
   "execution_count": 11,
   "metadata": {},
   "outputs": [],
   "source": [
    "# Обучение градиетного бустинга\n",
    "# Входные данные - число деревьев, выходные - roc_auc метрика и время выполнения скрипта\n",
    "def teaching_grb(number_of_trees):\n",
    "    #Засекаем время начала работы алгоритма\n",
    "    startTime = datetime.now()\n",
    "    kf = KFold(n_splits=5, shuffle=True, random_state=241)\n",
    "    grad = GradientBoostingClassifier(n_estimators=number_of_trees)\n",
    "    grad.fit(X, y)\n",
    "    return cross_val_score(grad, X, y, scoring='roc_auc', cv=kf,n_jobs=-1).mean(), datetime.now() - startTime"
   ]
  },
  {
   "cell_type": "code",
   "execution_count": 12,
   "metadata": {},
   "outputs": [
    {
     "name": "stdout",
     "output_type": "stream",
     "text": [
      "Для 10 деревьев метрика roc_auc=0.66 | Время выполнения:0:00:21.257054\n",
      "Для 30 деревьев метрика roc_auc=0.69 | Время выполнения:0:00:58.156045\n",
      "Для 100 деревьев метрика roc_auc=0.71 | Время выполнения:0:02:50.526739\n"
     ]
    }
   ],
   "source": [
    "#Обучение градиентного бустинга на 10, 30 и 100 деревьях\n",
    "for n in [10, 30, 100]:\n",
    "    roc_auc, execution_time = teaching_grb(n)\n",
    "    print('Для ' + str(n) + ' деревьев метрика roc_auc=' + str(round(roc_auc, 2)) + ' | Время выполнения:' + str(execution_time))"
   ]
  },
  {
   "cell_type": "code",
   "execution_count": 13,
   "metadata": {},
   "outputs": [],
   "source": [
    "#Подключение библиотек для работы с логической регрессией\n",
    "from sklearn.linear_model import LogisticRegression\n",
    "from sklearn.preprocessing import StandardScaler"
   ]
  },
  {
   "cell_type": "code",
   "execution_count": 14,
   "metadata": {},
   "outputs": [],
   "source": [
    "scaler = StandardScaler()"
   ]
  },
  {
   "cell_type": "code",
   "execution_count": 15,
   "metadata": {},
   "outputs": [],
   "source": [
    "#Для поиска максимального значения, его C коэффициент регуляризации и на каком этапе \n",
    "roc_auc_best = 0.0, 0.0, ''"
   ]
  },
  {
   "cell_type": "code",
   "execution_count": 16,
   "metadata": {},
   "outputs": [],
   "source": [
    "# Обучение линейной регрессии\n",
    "# Входные данные - обучающая выборка, выходные - roc_auc метрика и время выполнения\n",
    "def teaching_lr(X_train, C_val):\n",
    "    startTime = datetime.now()\n",
    "    LogReg = LogisticRegression(C=C_val)\n",
    "    LogReg.fit(X_train, y)\n",
    "    kf = KFold(n_splits=5, shuffle=True)\n",
    "    res = cross_val_score(LogReg, X_train, y, scoring='roc_auc', cv=kf,n_jobs=-1).mean()\n",
    "    return res, datetime.now() - startTime"
   ]
  },
  {
   "cell_type": "code",
   "execution_count": 17,
   "metadata": {},
   "outputs": [],
   "source": [
    "C_list = [0.1, 0.2, 1.0, 2.0, 10.0, 20, 100.0, 200.0]"
   ]
  },
  {
   "cell_type": "code",
   "execution_count": 18,
   "metadata": {},
   "outputs": [
    {
     "name": "stdout",
     "output_type": "stream",
     "text": [
      "Логическая регрессия:\n",
      "Для исходных данных:\n"
     ]
    }
   ],
   "source": [
    "#Проверим качество метрики с исходными данными и сравним время выполнения\n",
    "print('Логическая регрессия:')\n",
    "print('Для исходных данных:')"
   ]
  },
  {
   "cell_type": "code",
   "execution_count": 19,
   "metadata": {},
   "outputs": [
    {
     "name": "stdout",
     "output_type": "stream",
     "text": [
      "Для c=0.1 roc_auc=0.71668 | Время выполнения:0:00:12.329558\n",
      "Для c=0.2 roc_auc=0.71682 | Время выполнения:0:00:13.696437\n",
      "Для c=1.0 roc_auc=0.71674 | Время выполнения:0:00:12.221884\n",
      "Для c=2.0 roc_auc=0.71681 | Время выполнения:0:00:12.666733\n",
      "Для c=10.0 roc_auc=0.71676 | Время выполнения:0:00:12.409124\n",
      "Для c=20 roc_auc=0.71674 | Время выполнения:0:00:12.251275\n",
      "Для c=100.0 roc_auc=0.71677 | Время выполнения:0:00:11.948999\n",
      "Для c=200.0 roc_auc=0.71703 | Время выполнения:0:00:11.888332\n"
     ]
    }
   ],
   "source": [
    "for C in C_list:\n",
    "    roc_auc, execution_time = teaching_lr(scaler.fit_transform(X), C)\n",
    "    if roc_auc_best[0] < roc_auc:\n",
    "        roc_auc_best = roc_auc, C, 'Исходные данные'\n",
    "    print('Для c=' + str(C) + ' roc_auc=' + str(round(roc_auc, 5)) + ' | Время выполнения:' + str(execution_time))"
   ]
  },
  {
   "cell_type": "code",
   "execution_count": 20,
   "metadata": {},
   "outputs": [],
   "source": [
    "#Очистим выборку от категориальных признаков, здесь их 11, а именно тип лобби и герои\n",
    "X_cleared = X.drop(['lobby_type'], axis=1)"
   ]
  },
  {
   "cell_type": "code",
   "execution_count": 21,
   "metadata": {},
   "outputs": [],
   "source": [
    "for i in range(1,6):\n",
    "    X_cleared = X_cleared.drop(['r' + str(i) + '_hero'], axis=1)\n",
    "    X_cleared = X_cleared.drop(['d' + str(i) + '_hero'], axis=1)"
   ]
  },
  {
   "cell_type": "code",
   "execution_count": 22,
   "metadata": {},
   "outputs": [
    {
     "name": "stdout",
     "output_type": "stream",
     "text": [
      "roc_auc после удаления категориальных признаков\n",
      "Для c=0.1 roc_auc=0.71687 | Время выполнения:0:00:12.139404\n",
      "Для c=0.2 roc_auc=0.71681 | Время выполнения:0:00:13.198120\n",
      "Для c=1.0 roc_auc=0.71678 | Время выполнения:0:00:11.931789\n",
      "Для c=2.0 roc_auc=0.71685 | Время выполнения:0:00:11.400787\n",
      "Для c=10.0 roc_auc=0.71678 | Время выполнения:0:00:11.079715\n",
      "Для c=20 roc_auc=0.71676 | Время выполнения:0:00:10.815804\n",
      "Для c=100.0 roc_auc=0.71707 | Время выполнения:0:00:10.307537\n",
      "Для c=200.0 roc_auc=0.71687 | Время выполнения:0:00:10.333745\n"
     ]
    }
   ],
   "source": [
    "#Проверим качество метрики после удаления категориальных признаков\n",
    "print('roc_auc после удаления категориальных признаков')\n",
    "for C in C_list:\n",
    "    roc_auc_cleared, execution_time = teaching_lr(scaler.fit_transform(X_cleared), C)\n",
    "    if roc_auc_best[0] < roc_auc_cleared:\n",
    "        roc_auc_best = roc_auc_cleared, C, 'После удаления признаков'\n",
    "    print('Для c=' + str(C) + ' roc_auc=' + str(round(roc_auc_cleared, 5)) + ' | Время выполнения:' + str(execution_time))"
   ]
  },
  {
   "cell_type": "code",
   "execution_count": 23,
   "metadata": {},
   "outputs": [],
   "source": [
    "#Поиск максимального идентификатора героя в тестовой выборки для всех 10 игроков"
   ]
  },
  {
   "cell_type": "code",
   "execution_count": 24,
   "metadata": {},
   "outputs": [],
   "source": [
    "max_id = 0"
   ]
  },
  {
   "cell_type": "code",
   "execution_count": 25,
   "metadata": {},
   "outputs": [],
   "source": [
    "for n in range(1,6):\n",
    "    if data_train['r' + str(n) + '_hero'].max() > max_id:\n",
    "        max_id = data_train['r' + str(n) + '_hero'].max()\n",
    "    elif data_train['d' + str(n) + '_hero'].max() > max_id:\n",
    "        max_id = data_train['d' + str(n) + '_hero'].max()"
   ]
  },
  {
   "cell_type": "code",
   "execution_count": 26,
   "metadata": {},
   "outputs": [
    {
     "name": "stdout",
     "output_type": "stream",
     "text": [
      "112\n"
     ]
    }
   ],
   "source": [
    "print(max_id)"
   ]
  },
  {
   "cell_type": "code",
   "execution_count": 27,
   "metadata": {},
   "outputs": [],
   "source": [
    "#Проверим это число с количеством различных идентификаторов героев во всех играх любым из игроков"
   ]
  },
  {
   "cell_type": "code",
   "execution_count": 28,
   "metadata": {},
   "outputs": [],
   "source": [
    "isset = list()"
   ]
  },
  {
   "cell_type": "code",
   "execution_count": 29,
   "metadata": {},
   "outputs": [],
   "source": [
    "for n in range(1,6):\n",
    "    r = data_train['r' + str(n) + '_hero'].unique()\n",
    "    d = data_train['d' + str(n) + '_hero'].unique()\n",
    "    isset = list(set().union(isset, r, d))"
   ]
  },
  {
   "cell_type": "code",
   "execution_count": 30,
   "metadata": {},
   "outputs": [],
   "source": [
    "#Получаем число всех выбираемых героев\n",
    "uniqie_ids = len(isset)"
   ]
  },
  {
   "cell_type": "code",
   "execution_count": 31,
   "metadata": {},
   "outputs": [
    {
     "name": "stdout",
     "output_type": "stream",
     "text": [
      "4\n"
     ]
    }
   ],
   "source": [
    "#То есть в выборке не присутствовали 4 идентификатора\n",
    "print(max_id - uniqie_ids)"
   ]
  },
  {
   "cell_type": "code",
   "execution_count": 32,
   "metadata": {},
   "outputs": [
    {
     "name": "stdout",
     "output_type": "stream",
     "text": [
      "24\n",
      "107\n",
      "108\n",
      "111\n"
     ]
    }
   ],
   "source": [
    "#Получим список \"неигральбельных\" героев\n",
    "for i in range(1, max_id + 1):\n",
    "    if not i in isset:\n",
    "        print(i)"
   ]
  },
  {
   "cell_type": "code",
   "execution_count": 33,
   "metadata": {},
   "outputs": [],
   "source": [
    "import numpy"
   ]
  },
  {
   "cell_type": "code",
   "execution_count": 34,
   "metadata": {},
   "outputs": [
    {
     "name": "stderr",
     "output_type": "stream",
     "text": [
      "d:\\programming\\python\\lib\\site-packages\\ipykernel_launcher.py:6: DeprecationWarning: \n",
      ".ix is deprecated. Please use\n",
      ".loc for label based indexing or\n",
      ".iloc for positional indexing\n",
      "\n",
      "See the documentation here:\n",
      "http://pandas.pydata.org/pandas-docs/stable/indexing.html#ix-indexer-is-deprecated\n",
      "  \n"
     ]
    }
   ],
   "source": [
    "#Получение \"мешка слов\" по героям\n",
    "X_pick = numpy.zeros((X.shape[0], max_id))\n",
    "\n",
    "for i, match_id in enumerate(X.index):\n",
    "    for p in range(1, 5):\n",
    "        X_pick[i, X.ix[match_id, 'r%d_hero' % (p+1)]-1] = 1\n",
    "        X_pick[i, X.ix[match_id, 'd%d_hero' % (p+1)]-1] = -1"
   ]
  },
  {
   "cell_type": "code",
   "execution_count": 35,
   "metadata": {},
   "outputs": [],
   "source": [
    "Bag_of_words = pandas.DataFrame(X_pick, index=X.index)"
   ]
  },
  {
   "cell_type": "code",
   "execution_count": 36,
   "metadata": {},
   "outputs": [],
   "source": [
    "#Объединение признаков с \"мешком слов\"\n",
    "X_with_bag = pandas.concat([X_cleared, Bag_of_words], axis=1)"
   ]
  },
  {
   "cell_type": "code",
   "execution_count": 37,
   "metadata": {},
   "outputs": [
    {
     "name": "stdout",
     "output_type": "stream",
     "text": [
      "Для c=0.1 roc_auc=0.74322 | Время выполнения:0:00:20.578156\n",
      "Для c=0.2 roc_auc=0.74336 | Время выполнения:0:00:22.030139\n",
      "Для c=1.0 roc_auc=0.74358 | Время выполнения:0:00:20.520285\n",
      "Для c=2.0 roc_auc=0.74347 | Время выполнения:0:00:20.823919\n",
      "Для c=10.0 roc_auc=0.74339 | Время выполнения:0:00:21.146989\n",
      "Для c=20 roc_auc=0.74338 | Время выполнения:0:00:22.444788\n",
      "Для c=100.0 roc_auc=0.74335 | Время выполнения:0:00:22.206341\n",
      "Для c=200.0 roc_auc=0.74324 | Время выполнения:0:00:20.793670\n"
     ]
    }
   ],
   "source": [
    "#Проверим качество метрики после добавление \"мешка слов\" по героям\n",
    "for C in C_list:\n",
    "    roc_auc_bag, execution_time = teaching_lr(scaler.fit_transform(X_with_bag), C)\n",
    "    if roc_auc_best[0] < roc_auc_bag:\n",
    "        roc_auc_best = roc_auc_bag, C, 'Мешок слов'\n",
    "    print('Для c=' + str(C) + ' roc_auc=' + str(round(roc_auc_bag, 5)) + ' | Время выполнения:' + str(execution_time))"
   ]
  },
  {
   "cell_type": "markdown",
   "metadata": {},
   "source": [
    "# Ответы на вопросы"
   ]
  },
  {
   "cell_type": "markdown",
   "metadata": {},
   "source": [
    "# Подход 1: градиентный бустинг \"в лоб\""
   ]
  },
  {
   "cell_type": "raw",
   "metadata": {},
   "source": [
    "#1. Какие признаки имеют пропуски среди своих значений (приведите полный список имен этих признаков)? Что могут означать пропуски в этих признаках (ответьте на этот вопрос для двух любых признаков)?"
   ]
  },
  {
   "cell_type": "code",
   "execution_count": 38,
   "metadata": {},
   "outputs": [],
   "source": [
    "nan_columns = data_train.isnull().sum().sort_values(ascending=False)"
   ]
  },
  {
   "cell_type": "code",
   "execution_count": 39,
   "metadata": {},
   "outputs": [
    {
     "name": "stdout",
     "output_type": "stream",
     "text": [
      "Признаки, имеющие пропуски значений\n",
      "Признак:first_blood_player2              Кол-во пропусков: 43987\n",
      "Признак:radiant_flying_courier_time              Кол-во пропусков: 27479\n",
      "Признак:dire_flying_courier_time              Кол-во пропусков: 26098\n",
      "Признак:first_blood_player1              Кол-во пропусков: 19553\n",
      "Признак:first_blood_team              Кол-во пропусков: 19553\n",
      "Признак:first_blood_time              Кол-во пропусков: 19553\n",
      "Признак:dire_bottle_time              Кол-во пропусков: 16143\n",
      "Признак:radiant_bottle_time              Кол-во пропусков: 15691\n",
      "Признак:radiant_first_ward_time              Кол-во пропусков: 1836\n",
      "Признак:dire_first_ward_time              Кол-во пропусков: 1826\n",
      "Признак:radiant_courier_time              Кол-во пропусков: 692\n",
      "Признак:dire_courier_time              Кол-во пропусков: 676\n"
     ]
    }
   ],
   "source": [
    "print('Признаки, имеющие пропуски значений')\n",
    "for c in nan_columns.keys():\n",
    "    if nan_columns[c] <= 0:\n",
    "        break\n",
    "    print('Признак:' + str(c) + '              Кол-во пропусков: ' + str(nan_columns[c]))"
   ]
  },
  {
   "cell_type": "markdown",
   "metadata": {},
   "source": [
    "Если рассмотреть два логически связанных признака \"first_blood_team\"(команда, совершившая первую кровь) и \"first_blood_time\"(игровое время первой крови), то видно что они имеют одинаковое количество. Во-первых, это говорит о том, что они выполняются вместе. Во-вторых, незаполненность данных скорее всего связана с тем, что данные события происходят после 5 минут от начала игры и не попадали в тестовоую выборку."
   ]
  },
  {
   "cell_type": "raw",
   "metadata": {},
   "source": [
    "#2 Как называется столбец, содержащий целевую переменную?"
   ]
  },
  {
   "cell_type": "markdown",
   "metadata": {},
   "source": [
    "radiant_win"
   ]
  },
  {
   "cell_type": "raw",
   "metadata": {},
   "source": [
    "#3 Как долго проводилась кросс-валидация для градиентного бустинга с 30 деревьями? Инструкцию по измерению времени можно найти выше по тексту. Какое качество при этом получилось?"
   ]
  },
  {
   "cell_type": "markdown",
   "metadata": {},
   "source": [
    "Длилось: 51 секунду. <br />\n",
    "Качество: 0.69\n",
    "P.S. без кросс-валидации качество метрики получилось примерно такое же, но время выполнения ~13 секунд, что в 4 раза быстрее"
   ]
  },
  {
   "cell_type": "raw",
   "metadata": {},
   "source": [
    "#4 Имеет ли смысл использовать больше 30 деревьев в градиентном бустинге? Что можно сделать, чтобы ускорить его обучение при увеличении количества деревьев?"
   ]
  },
  {
   "cell_type": "markdown",
   "metadata": {},
   "source": [
    "Спорный вопрос. Например, при 30 деревьях roc_auc=0.69, а при 100 деревьях roc_auc=0.71 <br />\n",
    "Качество улучшилось, но время алгоритма выросло в несколько раз. Прирост в качестве не такой большой по сравнению с потраченным временем. Также значительно уступает логической регрессии по качеству и времени выполнения. <br />\n",
    "Для ускорения можно, например, изменить глубину поиска(max_depth) или n_jobs=-1 для кросс-валидации, что даст небольшое сокращение времени, но значительно нагрузит все процессоры вплоть до 99.9%  "
   ]
  },
  {
   "cell_type": "markdown",
   "metadata": {},
   "source": [
    "# Подход 2: логистическая регрессия"
   ]
  },
  {
   "cell_type": "raw",
   "metadata": {},
   "source": [
    "#1 Какое качество получилось у логистической регрессии над всеми исходными признаками? Как оно соотносится с качеством градиентного бустинга? Чем можно объяснить эту разницу? Быстрее ли работает логистическая регрессия по сравнению с градиентным бустингом?"
   ]
  },
  {
   "cell_type": "markdown",
   "metadata": {},
   "source": [
    "При исходных данных roc_auc = 0.72 <br />\n",
    "Если сравнивать логичестическую регрессию с исходными данными(только после их масштабирования), то она уже выигравывает в качестве градиентный бустинг при 30 деревьях. <br />\n",
    "Разница в качестве вызвана тем, что градиентный бустинг \"в лоб\" пытается найти решение.\n",
    "Логистическая регрессия значительно превосходит по скорости бустинг. Например, при 100 деревьях подсчет занимает 3 минуты(без n_jobs=-1), в то время как регрессия тратит на это несколько секунд."
   ]
  },
  {
   "cell_type": "raw",
   "metadata": {},
   "source": [
    "#2 Как влияет на качество логистической регрессии удаление категориальных признаков (укажите новое значение метрики качества)? Чем можно объяснить это изменение?"
   ]
  },
  {
   "cell_type": "markdown",
   "metadata": {},
   "source": [
    "Незначительная разница после удаления. Это может означать, что эти признаки имели крайне малый вес при подсчете предсказания."
   ]
  },
  {
   "cell_type": "raw",
   "metadata": {},
   "source": [
    "#3 Сколько различных идентификаторов героев существует в данной игре?"
   ]
  },
  {
   "cell_type": "markdown",
   "metadata": {},
   "source": [
    "Если рассматривать только данные из тестовой выборки, то число различных идентификаторов равно: 108, но максимальный - 112"
   ]
  },
  {
   "cell_type": "raw",
   "metadata": {},
   "source": [
    "#4 Какое получилось качество при добавлении \"мешка слов\" по героям? Улучшилось ли оно по сравнению с предыдущим вариантом? Чем можно это объяснить?"
   ]
  },
  {
   "cell_type": "markdown",
   "metadata": {},
   "source": [
    "Качество улучшилось. С 0.72 с исходными данными до 0.74. Это может быть вызвано тем, что вместо случайных категориальных иденфикаторов, мы получили осмысленную связь между определенным героев(группы героев) и целевой переменной"
   ]
  },
  {
   "cell_type": "raw",
   "metadata": {},
   "source": [
    "#5 Какое минимальное и максимальное значение прогноза на тестовой выборке получилось у лучшего из алгоритмов?"
   ]
  },
  {
   "cell_type": "code",
   "execution_count": 40,
   "metadata": {},
   "outputs": [
    {
     "name": "stdout",
     "output_type": "stream",
     "text": [
      "Лучший алгоритм:\n",
      "roc_auc:0.74\n",
      "C:1.0\n",
      "Этап:Мешок слов\n"
     ]
    }
   ],
   "source": [
    "print('Лучший алгоритм:')\n",
    "print('roc_auc:' +str(round(roc_auc_best[0], 2)) + '\\nC:' + str(roc_auc_best[1]) + '\\nЭтап:' + str(roc_auc_best[2]))"
   ]
  },
  {
   "cell_type": "code",
   "execution_count": 41,
   "metadata": {},
   "outputs": [],
   "source": [
    "LogReg = LogisticRegression(C=roc_auc_best[1])"
   ]
  },
  {
   "cell_type": "code",
   "execution_count": 42,
   "metadata": {},
   "outputs": [
    {
     "data": {
      "text/plain": [
       "LogisticRegression(C=1.0, class_weight=None, dual=False, fit_intercept=True,\n",
       "          intercept_scaling=1, max_iter=100, multi_class='ovr', n_jobs=1,\n",
       "          penalty='l2', random_state=None, solver='liblinear', tol=0.0001,\n",
       "          verbose=0, warm_start=False)"
      ]
     },
     "execution_count": 42,
     "metadata": {},
     "output_type": "execute_result"
    }
   ],
   "source": [
    "LogReg.fit(scaler.fit_transform(X_with_bag), y)"
   ]
  },
  {
   "cell_type": "code",
   "execution_count": 43,
   "metadata": {},
   "outputs": [],
   "source": [
    "pred = LogReg.predict_proba(scaler.fit_transform(X_with_bag))[:, 1]"
   ]
  },
  {
   "cell_type": "code",
   "execution_count": 45,
   "metadata": {},
   "outputs": [
    {
     "name": "stdout",
     "output_type": "stream",
     "text": [
      "min:0.001 max:0.999\n"
     ]
    }
   ],
   "source": [
    "print('min:'+str(round(numpy.min(pred), 3)) + ' max:' +str(round(numpy.max(pred), 3)))"
   ]
  },
  {
   "cell_type": "code",
   "execution_count": null,
   "metadata": {},
   "outputs": [],
   "source": []
  }
 ],
 "metadata": {
  "kernelspec": {
   "display_name": "Python 3",
   "language": "python",
   "name": "python3"
  },
  "language_info": {
   "codemirror_mode": {
    "name": "ipython",
    "version": 3
   },
   "file_extension": ".py",
   "mimetype": "text/x-python",
   "name": "python",
   "nbconvert_exporter": "python",
   "pygments_lexer": "ipython3",
   "version": "3.6.5"
  }
 },
 "nbformat": 4,
 "nbformat_minor": 2
}
